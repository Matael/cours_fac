{
 "metadata": {
  "name": "Theorie des Lignes"
 },
 "nbformat": 3,
 "nbformat_minor": 0,
 "worksheets": [
  {
   "cells": [
    {
     "cell_type": "markdown",
     "metadata": {},
     "source": [
      "Theorie des Lignes\n",
      "=================="
     ]
    },
    {
     "cell_type": "code",
     "collapsed": false,
     "input": [
      "import sympy as s\n",
      "from sympy import cos, sin, tan, sqrt, init_printing\n",
      "\n",
      "init_printing(use_unicode=True)"
     ],
     "language": "python",
     "metadata": {},
     "outputs": [],
     "prompt_number": 1
    },
    {
     "cell_type": "code",
     "collapsed": false,
     "input": [
      "k,Zc,L= s.symbols('k Z_c L')\n",
      "\n",
      "j = complex('j')"
     ],
     "language": "python",
     "metadata": {},
     "outputs": [],
     "prompt_number": 2
    },
    {
     "cell_type": "code",
     "collapsed": false,
     "input": [
      "m_tube = s.Matrix([[cos(k*L), j*Zc*sin(k*L)],[j/Zc*sin(k*L), cos(k*L)]])"
     ],
     "language": "python",
     "metadata": {},
     "outputs": [],
     "prompt_number": 3
    },
    {
     "cell_type": "code",
     "collapsed": false,
     "input": [
      "m_quartonde = s.Matrix([\n",
      "    [1, 0],\n",
      "    [j/Zc*tan(k*L), 1 ]\n",
      "])"
     ],
     "language": "python",
     "metadata": {},
     "outputs": [],
     "prompt_number": 4
    },
    {
     "cell_type": "code",
     "collapsed": false,
     "input": [
      "cellule = m_tube*m_quartonde;"
     ],
     "language": "python",
     "metadata": {},
     "outputs": [],
     "prompt_number": 5
    },
    {
     "cell_type": "code",
     "collapsed": false,
     "input": [
      "cellule_diag = cellule.diagonalize()"
     ],
     "language": "python",
     "metadata": {},
     "outputs": [],
     "prompt_number": 6
    },
    {
     "cell_type": "code",
     "collapsed": false,
     "input": [
      "P = cellule_diag[0]\n",
      "D = cellule_diag[1]\n",
      "\n",
      "res3 = P*D**3*P**-1"
     ],
     "language": "python",
     "metadata": {},
     "outputs": [],
     "prompt_number": 7
    },
    {
     "cell_type": "code",
     "collapsed": false,
     "input": [
      "s.simplify(res3)"
     ],
     "language": "python",
     "metadata": {},
     "outputs": [
      {
       "latex": [
        "$$\\left[\\begin{matrix}\\frac{1}{\\cos{\\left (L k \\right )}} \\left(1.25 \\left(\\left(9.0 \\sin^{2}{\\left (L k \\right )} - 8.0\\right) \\sin^{2}{\\left (L k \\right )}\\right)^{1.0} - \\frac{0.5}{\\cos^{2}{\\left (L k \\right )}} \\left(\\left(9.0 \\sin^{2}{\\left (L k \\right )} - 8.0\\right) \\sin^{2}{\\left (L k \\right )}\\right)^{1.0} - \\frac{6.75 \\sin^{6}{\\left (L k \\right )}}{\\cos^{2}{\\left (L k \\right )}} + \\frac{11.25 \\sin^{4}{\\left (L k \\right )}}{\\cos^{2}{\\left (L k \\right )}} + 6.0 - \\frac{5.0}{\\cos^{2}{\\left (L k \\right )}}\\right) & \\frac{1.0 i Z_{c} \\sin{\\left (L k \\right )}}{\\cos^{2}{\\left (L k \\right )}} \\left(0.25 \\left(\\left(9.0 \\sin^{2}{\\left (L k \\right )} - 8.0\\right) \\sin^{2}{\\left (L k \\right )}\\right)^{1.0} + 6.75 \\sin^{4}{\\left (L k \\right )} - 9.0 \\sin^{2}{\\left (L k \\right )} + 3.0\\right)\\\\\\frac{i}{Z_{c} \\cos^{4}{\\left (L k \\right )}} \\left(- 1.625 \\left(\\left(9.0 \\sin^{2}{\\left (L k \\right )} - 8.0\\right) \\sin^{2}{\\left (L k \\right )}\\right)^{1.0} \\sin^{3}{\\left (L k \\right )} + 2.25 \\left(\\left(9.0 \\sin^{2}{\\left (L k \\right )} - 8.0\\right) \\sin^{2}{\\left (L k \\right )}\\right)^{1.0} \\sin{\\left (L k \\right )} - \\frac{0.75}{\\sin{\\left (L k \\right )}} \\left(\\left(9.0 \\sin^{2}{\\left (L k \\right )} - 8.0\\right) \\sin^{2}{\\left (L k \\right )}\\right)^{1.0} - \\frac{0.0625}{\\sin{\\left (L k \\right )}} \\left(\\left(9.0 \\sin^{2}{\\left (L k \\right )} - 8.0\\right) \\sin^{2}{\\left (L k \\right )}\\right)^{2.0} + 1.6875 \\sin^{7}{\\left (L k \\right )} - 2.25 \\sin^{5}{\\left (L k \\right )} + 0.75 \\sin^{3}{\\left (L k \\right )}\\right) & \\frac{1}{\\cos{\\left (L k \\right )}} \\left(1.0 \\left(\\left(9.0 \\sin^{2}{\\left (L k \\right )} - 8.0\\right) \\sin^{2}{\\left (L k \\right )}\\right)^{1.0} - \\frac{0.25}{\\cos^{2}{\\left (L k \\right )}} \\left(\\left(9.0 \\sin^{2}{\\left (L k \\right )} - 8.0\\right) \\sin^{2}{\\left (L k \\right )}\\right)^{1.0} + \\frac{2.25 \\sin^{4}{\\left (L k \\right )}}{\\cos^{2}{\\left (L k \\right )}} + 3.0 - \\frac{2.0}{\\cos^{2}{\\left (L k \\right )}}\\right)\\end{matrix}\\right]$$"
       ],
       "output_type": "pyout",
       "png": "[encoded data removed]",
       "prompt_number": 8,
       "text": [
        "\u23a1                                                         \u239b                   \n",
        "\u23a2                                                         \u239c                   \n",
        "\u23a2                                                         \u239c      \u239b\u239b       2   \n",
        "\u23a2                                                       2\u22c5\u239c0.625\u22c5\u239d\u239d9.0\u22c5sin (L\u22c5\n",
        "\u23a2                                                         \u239c                   \n",
        "\u23a2                                                         \u239d                   \n",
        "\u23a2                                                       \u2500\u2500\u2500\u2500\u2500\u2500\u2500\u2500\u2500\u2500\u2500\u2500\u2500\u2500\u2500\u2500\u2500\u2500\u2500\u2500\u2500\u2500\n",
        "\u23a2                                                                             \n",
        "\u23a2                                                                             \n",
        "\u23a2                                                                             \n",
        "\u23a2                                                                             \n",
        "\u23a2  \u239b                                                                          \n",
        "\u23a2  \u239c                                         1.0                              \n",
        "\u23a2  \u239c        \u239b\u239b       2           \u239e    2     \u239e       3             \u239b\u239b       2  \n",
        "\u23a2\u2148\u22c5\u239c- 1.625\u22c5\u239d\u239d9.0\u22c5sin (L\u22c5k) - 8.0\u23a0\u22c5sin (L\u22c5k)\u23a0   \u22c5sin (L\u22c5k) + 2.25\u22c5\u239d\u239d9.0\u22c5sin (L\n",
        "\u23a2  \u239d                                                                          \n",
        "\u23a2\u2500\u2500\u2500\u2500\u2500\u2500\u2500\u2500\u2500\u2500\u2500\u2500\u2500\u2500\u2500\u2500\u2500\u2500\u2500\u2500\u2500\u2500\u2500\u2500\u2500\u2500\u2500\u2500\u2500\u2500\u2500\u2500\u2500\u2500\u2500\u2500\u2500\u2500\u2500\u2500\u2500\u2500\u2500\u2500\u2500\u2500\u2500\u2500\u2500\u2500\u2500\u2500\u2500\u2500\u2500\u2500\u2500\u2500\u2500\u2500\u2500\u2500\u2500\u2500\u2500\u2500\u2500\u2500\u2500\u2500\u2500\u2500\u2500\u2500\u2500\u2500\u2500\n",
        "\u23a2                                                                             \n",
        "\u23a3                                                                             \n",
        "\n",
        "                                                                1.0           \n",
        "                    1.0        \u239b\u239b       2           \u239e    2     \u239e              \n",
        "        \u239e    2     \u239e      0.25\u22c5\u239d\u239d9.0\u22c5sin (L\u22c5k) - 8.0\u23a0\u22c5sin (L\u22c5k)\u23a0      3.375\u22c5si\n",
        "k) - 8.0\u23a0\u22c5sin (L\u22c5k)\u23a0    - \u2500\u2500\u2500\u2500\u2500\u2500\u2500\u2500\u2500\u2500\u2500\u2500\u2500\u2500\u2500\u2500\u2500\u2500\u2500\u2500\u2500\u2500\u2500\u2500\u2500\u2500\u2500\u2500\u2500\u2500\u2500\u2500\u2500\u2500\u2500\u2500\u2500\u2500\u2500\u2500\u2500 - \u2500\u2500\u2500\u2500\u2500\u2500\u2500\u2500\n",
        "                                             2                              2 \n",
        "                                          cos (L\u22c5k)                      cos (\n",
        "\u2500\u2500\u2500\u2500\u2500\u2500\u2500\u2500\u2500\u2500\u2500\u2500\u2500\u2500\u2500\u2500\u2500\u2500\u2500\u2500\u2500\u2500\u2500\u2500\u2500\u2500\u2500\u2500\u2500\u2500\u2500\u2500\u2500\u2500\u2500\u2500\u2500\u2500\u2500\u2500\u2500\u2500\u2500\u2500\u2500\u2500\u2500\u2500\u2500\u2500\u2500\u2500\u2500\u2500\u2500\u2500\u2500\u2500\u2500\u2500\u2500\u2500\u2500\u2500\u2500\u2500\u2500\u2500\u2500\u2500\u2500\u2500\u2500\u2500\u2500\u2500\u2500\u2500\n",
        "                                              cos(L\u22c5k)                        \n",
        "                                                                              \n",
        "                                                                              \n",
        "                                                                              \n",
        "                                                                          1.0 \n",
        "                     1.0                 \u239b\u239b       2           \u239e    2     \u239e    \n",
        "         \u239e    2     \u239e               0.75\u22c5\u239d\u239d9.0\u22c5sin (L\u22c5k) - 8.0\u23a0\u22c5sin (L\u22c5k)\u23a0    \n",
        "\u22c5k) - 8.0\u23a0\u22c5sin (L\u22c5k)\u23a0   \u22c5sin(L\u22c5k) - \u2500\u2500\u2500\u2500\u2500\u2500\u2500\u2500\u2500\u2500\u2500\u2500\u2500\u2500\u2500\u2500\u2500\u2500\u2500\u2500\u2500\u2500\u2500\u2500\u2500\u2500\u2500\u2500\u2500\u2500\u2500\u2500\u2500\u2500\u2500\u2500\u2500\u2500\u2500\u2500\u2500 \n",
        "                                                     sin(L\u22c5k)                 \n",
        "\u2500\u2500\u2500\u2500\u2500\u2500\u2500\u2500\u2500\u2500\u2500\u2500\u2500\u2500\u2500\u2500\u2500\u2500\u2500\u2500\u2500\u2500\u2500\u2500\u2500\u2500\u2500\u2500\u2500\u2500\u2500\u2500\u2500\u2500\u2500\u2500\u2500\u2500\u2500\u2500\u2500\u2500\u2500\u2500\u2500\u2500\u2500\u2500\u2500\u2500\u2500\u2500\u2500\u2500\u2500\u2500\u2500\u2500\u2500\u2500\u2500\u2500\u2500\u2500\u2500\u2500\u2500\u2500\u2500\u2500\u2500\u2500\u2500\u2500\u2500\u2500\u2500\u2500\n",
        "                                                  4                           \n",
        "                                           Z_c\u22c5cos (L\u22c5k)                      \n",
        "\n",
        "                                           \u239e                                  \n",
        " 6                 4                       \u239f                                  \n",
        "n (L\u22c5k)   5.625\u22c5sin (L\u22c5k)            2.5   \u239f                                  \n",
        "\u2500\u2500\u2500\u2500\u2500\u2500\u2500 + \u2500\u2500\u2500\u2500\u2500\u2500\u2500\u2500\u2500\u2500\u2500\u2500\u2500\u2500\u2500 + 3.0 - \u2500\u2500\u2500\u2500\u2500\u2500\u2500\u2500\u2500\u239f                                  \n",
        "                2                    2     \u239f                                  \n",
        "L\u22c5k)         cos (L\u22c5k)            cos (L\u22c5k)\u23a0                                  \n",
        "\u2500\u2500\u2500\u2500\u2500\u2500\u2500\u2500\u2500\u2500\u2500\u2500\u2500\u2500\u2500\u2500\u2500\u2500\u2500\u2500\u2500\u2500\u2500\u2500\u2500\u2500\u2500\u2500\u2500\u2500\u2500\u2500\u2500\u2500\u2500\u2500\u2500\u2500\u2500\u2500\u2500\u2500\u2500\u2500                                  \n",
        "                                                                              \n",
        "                                                                              \n",
        "                                                                              \n",
        "                                                                              \n",
        "                                          2.0                                 \n",
        "         \u239b\u239b       2           \u239e    2     \u239e                                    \n",
        "  0.0625\u22c5\u239d\u239d9.0\u22c5sin (L\u22c5k) - 8.0\u23a0\u22c5sin (L\u22c5k)\u23a0                7                5  \n",
        "- \u2500\u2500\u2500\u2500\u2500\u2500\u2500\u2500\u2500\u2500\u2500\u2500\u2500\u2500\u2500\u2500\u2500\u2500\u2500\u2500\u2500\u2500\u2500\u2500\u2500\u2500\u2500\u2500\u2500\u2500\u2500\u2500\u2500\u2500\u2500\u2500\u2500\u2500\u2500\u2500\u2500\u2500\u2500 + 1.6875\u22c5sin (L\u22c5k) - 2.25\u22c5sin (L\n",
        "                    sin(L\u22c5k)                                                  \n",
        "\u2500\u2500\u2500\u2500\u2500\u2500\u2500\u2500\u2500\u2500\u2500\u2500\u2500\u2500\u2500\u2500\u2500\u2500\u2500\u2500\u2500\u2500\u2500\u2500\u2500\u2500\u2500\u2500\u2500\u2500\u2500\u2500\u2500\u2500\u2500\u2500\u2500\u2500\u2500\u2500\u2500\u2500\u2500\u2500\u2500\u2500\u2500\u2500\u2500\u2500\u2500\u2500\u2500\u2500\u2500\u2500\u2500\u2500\u2500\u2500\u2500\u2500\u2500\u2500\u2500\u2500\u2500\u2500\u2500\u2500\u2500\u2500\u2500\u2500\u2500\u2500\u2500\u2500\n",
        "                                                                              \n",
        "                                                                              \n",
        "\n",
        "                                                                              \n",
        "                                                                              \n",
        "                                                                              \n",
        "                                          \u239b                                   \n",
        "                                          \u239c     \u239b\u239b       2           \u239e    2   \n",
        "                                1.0\u22c5\u2148\u22c5Z_c\u22c5\u239d0.25\u22c5\u239d\u239d9.0\u22c5sin (L\u22c5k) - 8.0\u23a0\u22c5sin (L\u22c5\n",
        "                                \u2500\u2500\u2500\u2500\u2500\u2500\u2500\u2500\u2500\u2500\u2500\u2500\u2500\u2500\u2500\u2500\u2500\u2500\u2500\u2500\u2500\u2500\u2500\u2500\u2500\u2500\u2500\u2500\u2500\u2500\u2500\u2500\u2500\u2500\u2500\u2500\u2500\u2500\u2500\u2500\u2500\u2500\u2500\u2500\u2500\u2500\n",
        "                                                                              \n",
        "                                                                              \n",
        "                                                                              \n",
        "                                                                              \n",
        "                    \u239e                                       1.0        \u239b\u239b     \n",
        "                    \u239f      \u239b\u239b       2           \u239e    2     \u239e      0.25\u22c5\u239d\u239d9.0\u22c5s\n",
        "              3     \u239f  1.0\u22c5\u239d\u239d9.0\u22c5sin (L\u22c5k) - 8.0\u23a0\u22c5sin (L\u22c5k)\u23a0    - \u2500\u2500\u2500\u2500\u2500\u2500\u2500\u2500\u2500\u2500\u2500\u2500\n",
        "\u22c5k) + 0.75\u22c5sin (L\u22c5k)\u239f                                                         \n",
        "                    \u23a0                                                         \n",
        "\u2500\u2500\u2500\u2500\u2500\u2500\u2500\u2500\u2500\u2500\u2500\u2500\u2500\u2500\u2500\u2500\u2500\u2500\u2500\u2500\u2500  \u2500\u2500\u2500\u2500\u2500\u2500\u2500\u2500\u2500\u2500\u2500\u2500\u2500\u2500\u2500\u2500\u2500\u2500\u2500\u2500\u2500\u2500\u2500\u2500\u2500\u2500\u2500\u2500\u2500\u2500\u2500\u2500\u2500\u2500\u2500\u2500\u2500\u2500\u2500\u2500\u2500\u2500\u2500\u2500\u2500\u2500\u2500\u2500\u2500\u2500\u2500\u2500\u2500\u2500\u2500\n",
        "                                                                              \n",
        "                                                                              \n",
        "\n",
        "                                                                \u23a4\n",
        "                                                                \u23a5\n",
        "                                                                \u23a5\n",
        "   1.0                                       \u239e                  \u23a5\n",
        "  \u239e              4               2           \u239f                  \u23a5\n",
        "k)\u23a0    + 6.75\u22c5sin (L\u22c5k) - 9.0\u22c5sin (L\u22c5k) + 3.0\u23a0\u22c5sin(L\u22c5k)         \u23a5\n",
        "\u2500\u2500\u2500\u2500\u2500\u2500\u2500\u2500\u2500\u2500\u2500\u2500\u2500\u2500\u2500\u2500\u2500\u2500\u2500\u2500\u2500\u2500\u2500\u2500\u2500\u2500\u2500\u2500\u2500\u2500\u2500\u2500\u2500\u2500\u2500\u2500\u2500\u2500\u2500\u2500\u2500\u2500\u2500\u2500\u2500\u2500\u2500\u2500\u2500\u2500\u2500\u2500\u2500\u2500\u2500         \u23a5\n",
        "   2                                                            \u23a5\n",
        "cos (L\u22c5k)                                                       \u23a5\n",
        "                                                                \u23a5\n",
        "                          1.0                                   \u23a5\n",
        "  2           \u239e    2     \u239e              4                       \u23a5\n",
        "in (L\u22c5k) - 8.0\u23a0\u22c5sin (L\u22c5k)\u23a0      2.25\u22c5sin (L\u22c5k)            2.0   \u23a5\n",
        "\u2500\u2500\u2500\u2500\u2500\u2500\u2500\u2500\u2500\u2500\u2500\u2500\u2500\u2500\u2500\u2500\u2500\u2500\u2500\u2500\u2500\u2500\u2500\u2500\u2500\u2500\u2500\u2500\u2500 + \u2500\u2500\u2500\u2500\u2500\u2500\u2500\u2500\u2500\u2500\u2500\u2500\u2500\u2500 + 3.0 - \u2500\u2500\u2500\u2500\u2500\u2500\u2500\u2500\u2500\u23a5\n",
        "       2                             2                    2     \u23a5\n",
        "    cos (L\u22c5k)                     cos (L\u22c5k)            cos (L\u22c5k)\u23a5\n",
        "\u2500\u2500\u2500\u2500\u2500\u2500\u2500\u2500\u2500\u2500\u2500\u2500\u2500\u2500\u2500\u2500\u2500\u2500\u2500\u2500\u2500\u2500\u2500\u2500\u2500\u2500\u2500\u2500\u2500\u2500\u2500\u2500\u2500\u2500\u2500\u2500\u2500\u2500\u2500\u2500\u2500\u2500\u2500\u2500\u2500\u2500\u2500\u2500\u2500\u2500\u2500\u2500\u2500\u2500\u2500\u2500\u2500\u2500\u2500\u2500\u2500\u2500\u2500\u2500\u23a5\n",
        " cos(L\u22c5k)                                                       \u23a5\n",
        "                                                                \u23a6"
       ]
      }
     ],
     "prompt_number": 8
    },
    {
     "cell_type": "markdown",
     "metadata": {},
     "source": [
      "# Tube - Diffuseur - Tube"
     ]
    },
    {
     "cell_type": "markdown",
     "metadata": {},
     "source": [
      "\\\\(\n",
      "\\begin{pmatrix}p_{1} \\\\\\\\ U_{1}\\end{pmatrix} =\n",
      "\\begin{pmatrix}\n",
      "cos(\\frac{kd}{2}) & jZ_csin(\\frac{kd}{2}) \\\\\\\\\n",
      "\\frac{j}{Z_c}sin(\\frac{kd}{2}) & cos(\\frac{kd}{2})\n",
      "\\end{pmatrix}\n",
      "\\begin{pmatrix}\n",
      "1 & 0 \\\\\\\\\n",
      "Y_E & 1\n",
      "\\end{pmatrix}\n",
      "\\begin{pmatrix}\n",
      "cos(\\frac{kd}{2}) & jZ_csin(\\frac{kd}{2}) \\\\\\\\\n",
      "\\frac{j}{Z_c}sin(\\frac{kd}{2}) & cos(\\frac{kd}{2})\n",
      "\\end{pmatrix}\n",
      "\\begin{pmatrix}\n",
      "p_{2} \\\\\\\\ U_{2}\n",
      "\\end{pmatrix}\n",
      "\\\\)"
     ]
    },
    {
     "cell_type": "code",
     "collapsed": false,
     "input": [
      "k,d,Zc,Ye = s.symbols('k d Z_c Y_E')\n",
      "j = complex('j')"
     ],
     "language": "python",
     "metadata": {},
     "outputs": [],
     "prompt_number": 72
    },
    {
     "cell_type": "code",
     "collapsed": false,
     "input": [
      "tube = s.Matrix([\n",
      "    [cos(k*d/2), j*Zc*sin(k*d/2)],\n",
      "    [j/Zc*sin(k*d/2), cos(k*d/2)]\n",
      "])\n",
      "\n",
      "diffuseur = s.Matrix([\n",
      "    [1, 0],\n",
      "    [Ye, 1]\n",
      "])"
     ],
     "language": "python",
     "metadata": {},
     "outputs": [],
     "prompt_number": 73
    },
    {
     "cell_type": "code",
     "collapsed": false,
     "input": [
      "cell = tube*diffuseur*tube"
     ],
     "language": "python",
     "metadata": {},
     "outputs": [],
     "prompt_number": 74
    },
    {
     "cell_type": "code",
     "collapsed": false,
     "input": [
      "simp_cell = s.simplify(cell)"
     ],
     "language": "python",
     "metadata": {},
     "outputs": [],
     "prompt_number": 75
    },
    {
     "cell_type": "code",
     "collapsed": false,
     "input": [
      "simp_cell"
     ],
     "language": "python",
     "metadata": {},
     "outputs": [
      {
       "latex": [
        "$$\\left[\\begin{matrix}0.5 i Y_{E} Z_{c} \\sin{\\left (d k \\right )} + 1.0 \\cos{\\left (d k \\right )} & Z_{c} \\left(0.5 Y_{E} Z_{c} \\cos{\\left (d k \\right )} - 0.5 Y_{E} Z_{c} + 1.0 i \\sin{\\left (d k \\right )}\\right)\\\\0.5 Y_{E} \\cos{\\left (d k \\right )} + 0.5 Y_{E} + \\frac{1.0 i}{Z_{c}} \\sin{\\left (d k \\right )} & 0.5 i Y_{E} Z_{c} \\sin{\\left (d k \\right )} + 1.0 \\cos{\\left (d k \\right )}\\end{matrix}\\right]$$"
       ],
       "output_type": "pyout",
       "png": "[encoded data removed]",
       "prompt_number": 76,
       "text": [
        "\u23a1   0.5\u22c5\u2148\u22c5Y_E\u22c5Z_c\u22c5sin(d\u22c5k) + 1.0\u22c5cos(d\u22c5k)     Z_c\u22c5(0.5\u22c5Y_E\u22c5Z_c\u22c5cos(d\u22c5k) - 0.5\u22c5\n",
        "\u23a2                                                                             \n",
        "\u23a2                             1.0\u22c5\u2148\u22c5sin(d\u22c5k)                                  \n",
        "\u23a20.5\u22c5Y_E\u22c5cos(d\u22c5k) + 0.5\u22c5Y_E + \u2500\u2500\u2500\u2500\u2500\u2500\u2500\u2500\u2500\u2500\u2500\u2500\u2500\u2500            0.5\u22c5\u2148\u22c5Y_E\u22c5Z_c\u22c5sin(d\u22c5k)\n",
        "\u23a3                                  Z_c                                        \n",
        "\n",
        "Y_E\u22c5Z_c + 1.0\u22c5\u2148\u22c5sin(d\u22c5k))\u23a4\n",
        "                         \u23a5\n",
        "                         \u23a5\n",
        " + 1.0\u22c5cos(d\u22c5k)          \u23a5\n",
        "                         \u23a6"
       ]
      }
     ],
     "prompt_number": 76
    },
    {
     "cell_type": "markdown",
     "metadata": {},
     "source": [
      "TD Membranes\n",
      "============"
     ]
    },
    {
     "cell_type": "code",
     "collapsed": false,
     "input": [
      "d,Zc,Zm,k,S= s.symbols('L Z_c Z_m k S')\n",
      "\n",
      "j = complex('j')"
     ],
     "language": "python",
     "metadata": {},
     "outputs": [],
     "prompt_number": 77
    },
    {
     "cell_type": "code",
     "collapsed": false,
     "input": [
      "tube = s.Matrix([\n",
      "    [cos(k*d/2), j*Zc*sin(k*d/2)],\n",
      "    [j/Zc*sin(k*d/2), cos(k*d/2)]\n",
      "])\n",
      "membrane = s.Matrix([\n",
      "    [1, 1/(Zm*S**2)],\n",
      "    [0, 1]\n",
      "])"
     ],
     "language": "python",
     "metadata": {},
     "outputs": [],
     "prompt_number": 78
    },
    {
     "cell_type": "code",
     "collapsed": false,
     "input": [
      "cell = tube*membrane*tube\n",
      "simp_cell = s.simplify(cell)"
     ],
     "language": "python",
     "metadata": {},
     "outputs": [],
     "prompt_number": 79
    },
    {
     "cell_type": "code",
     "collapsed": false,
     "input": [
      "simp_cell"
     ],
     "language": "python",
     "metadata": {},
     "outputs": [
      {
       "latex": [
        "$$\\left[\\begin{matrix}- 1.0 \\sin^{2}{\\left (\\frac{L k}{2} \\right )} + 0.5 \\cos{\\left (L k \\right )} + 0.5 + \\frac{0.5 i}{S^{2} Z_{c} Z_{m}} \\sin{\\left (L k \\right )} & \\frac{1}{S^{2} Z_{m}} \\left(1.0 i S^{2} Z_{c} Z_{m} \\sin{\\left (L k \\right )} + 0.5 \\cos{\\left (L k \\right )} + 0.5\\right)\\\\\\frac{1}{S^{2} Z_{c}^{2} Z_{m}} \\left(1.0 i S^{2} Z_{c} Z_{m} \\sin{\\left (L k \\right )} + 0.5 \\cos{\\left (L k \\right )} - 0.5\\right) & - 1.0 \\sin^{2}{\\left (\\frac{L k}{2} \\right )} + 0.5 \\cos{\\left (L k \\right )} + 0.5 + \\frac{0.5 i}{S^{2} Z_{c} Z_{m}} \\sin{\\left (L k \\right )}\\end{matrix}\\right]$$"
       ],
       "output_type": "pyout",
       "png": "[encoded data removed]",
       "prompt_number": 80,
       "text": [
        "\u23a1                                                                 2           \n",
        "\u23a2         2\u239bL\u22c5k\u239e                        0.5\u22c5\u2148\u22c5sin(L\u22c5k)     1.0\u22c5\u2148\u22c5S \u22c5Z_c\u22c5Z_m\u22c5si\n",
        "\u23a2- 1.0\u22c5sin \u239c\u2500\u2500\u2500\u239f + 0.5\u22c5cos(L\u22c5k) + 0.5 + \u2500\u2500\u2500\u2500\u2500\u2500\u2500\u2500\u2500\u2500\u2500\u2500\u2500\u2500     \u2500\u2500\u2500\u2500\u2500\u2500\u2500\u2500\u2500\u2500\u2500\u2500\u2500\u2500\u2500\u2500\u2500\u2500\u2500\n",
        "\u23a2          \u239d 2 \u23a0                           2                                  \n",
        "\u23a2                                         S \u22c5Z_c\u22c5Z_m                          \n",
        "\u23a2                                                                             \n",
        "\u23a2    \u239b       2                                      \u239e                         \n",
        "\u23a21.0\u22c5\u239d1.0\u22c5\u2148\u22c5S \u22c5Z_c\u22c5Z_m\u22c5sin(L\u22c5k) + 0.5\u22c5cos(L\u22c5k) - 0.5\u23a0            2\u239bL\u22c5k\u239e       \n",
        "\u23a2\u2500\u2500\u2500\u2500\u2500\u2500\u2500\u2500\u2500\u2500\u2500\u2500\u2500\u2500\u2500\u2500\u2500\u2500\u2500\u2500\u2500\u2500\u2500\u2500\u2500\u2500\u2500\u2500\u2500\u2500\u2500\u2500\u2500\u2500\u2500\u2500\u2500\u2500\u2500\u2500\u2500\u2500\u2500\u2500\u2500\u2500\u2500\u2500\u2500\u2500\u2500\u2500   - 1.0\u22c5sin \u239c\u2500\u2500\u2500\u239f + 0.5\u22c5\n",
        "\u23a2                     2    2                                      \u239d 2 \u23a0       \n",
        "\u23a3                    S \u22c5Z_c \u22c5Z_m                                              \n",
        "\n",
        "                               \u23a4\n",
        "n(L\u22c5k) + 0.5\u22c5cos(L\u22c5k) + 0.5    \u23a5\n",
        "\u2500\u2500\u2500\u2500\u2500\u2500\u2500\u2500\u2500\u2500\u2500\u2500\u2500\u2500\u2500\u2500\u2500\u2500\u2500\u2500\u2500\u2500\u2500\u2500\u2500\u2500\u2500    \u23a5\n",
        "  2                            \u23a5\n",
        " S \u22c5Z_m                        \u23a5\n",
        "                               \u23a5\n",
        "                               \u23a5\n",
        "                 0.5\u22c5\u2148\u22c5sin(L\u22c5k)\u23a5\n",
        "cos(L\u22c5k) + 0.5 + \u2500\u2500\u2500\u2500\u2500\u2500\u2500\u2500\u2500\u2500\u2500\u2500\u2500\u2500\u23a5\n",
        "                    2          \u23a5\n",
        "                   S \u22c5Z_c\u22c5Z_m  \u23a6"
       ]
      }
     ],
     "prompt_number": 80
    },
    {
     "cell_type": "code",
     "collapsed": false,
     "input": [
      "A = simp_cell[0]\n",
      "B = simp_cell[1]\n",
      "C = simp_cell[2]\n",
      "D = simp_cell[3]"
     ],
     "language": "python",
     "metadata": {},
     "outputs": [],
     "prompt_number": 81
    },
    {
     "cell_type": "code",
     "collapsed": false,
     "input": [
      "s.simplify(A*D-B*C)"
     ],
     "language": "python",
     "metadata": {},
     "outputs": [
      {
       "latex": [
        "$$1.0$$"
       ],
       "output_type": "pyout",
       "png": "[encoded data removed]",
       "prompt_number": 82,
       "text": [
        "1.00000000000000"
       ]
      }
     ],
     "prompt_number": 82
    },
    {
     "cell_type": "code",
     "collapsed": false,
     "input": [
      "Z1 = (A-1)/C\n",
      "Z2 = (D-1)/C\n",
      "ZT = 1/C"
     ],
     "language": "python",
     "metadata": {},
     "outputs": [],
     "prompt_number": 83
    },
    {
     "cell_type": "code",
     "collapsed": false,
     "input": [
      "s.simplify(Z1)"
     ],
     "language": "python",
     "metadata": {},
     "outputs": [
      {
       "latex": [
        "$$\\frac{1.0 Z_{c} \\left(S^{2} Z_{c} Z_{m} \\left(1.0 \\cos{\\left (L k \\right )} - 1.0\\right) + 0.5 i \\sin{\\left (L k \\right )}\\right)}{1.0 i S^{2} Z_{c} Z_{m} \\sin{\\left (L k \\right )} + 0.5 \\cos{\\left (L k \\right )} - 0.5}$$"
       ],
       "output_type": "pyout",
       "png": "[encoded data removed]",
       "prompt_number": 84,
       "text": [
        "        \u239b 2                                              \u239e\n",
        "1.0\u22c5Z_c\u22c5\u239dS \u22c5Z_c\u22c5Z_m\u22c5(1.0\u22c5cos(L\u22c5k) - 1.0) + 0.5\u22c5\u2148\u22c5sin(L\u22c5k)\u23a0\n",
        "\u2500\u2500\u2500\u2500\u2500\u2500\u2500\u2500\u2500\u2500\u2500\u2500\u2500\u2500\u2500\u2500\u2500\u2500\u2500\u2500\u2500\u2500\u2500\u2500\u2500\u2500\u2500\u2500\u2500\u2500\u2500\u2500\u2500\u2500\u2500\u2500\u2500\u2500\u2500\u2500\u2500\u2500\u2500\u2500\u2500\u2500\u2500\u2500\u2500\u2500\u2500\u2500\u2500\u2500\u2500\u2500\u2500\u2500\n",
        "             2                                            \n",
        "      1.0\u22c5\u2148\u22c5S \u22c5Z_c\u22c5Z_m\u22c5sin(L\u22c5k) + 0.5\u22c5cos(L\u22c5k) - 0.5      "
       ]
      }
     ],
     "prompt_number": 84
    },
    {
     "cell_type": "code",
     "collapsed": false,
     "input": [
      "s.simplify(Z1-Z2)"
     ],
     "language": "python",
     "metadata": {},
     "outputs": [
      {
       "latex": [
        "$$0$$"
       ],
       "output_type": "pyout",
       "png": "[encoded data removed]",
       "prompt_number": 85,
       "text": [
        "0"
       ]
      }
     ],
     "prompt_number": 85
    },
    {
     "cell_type": "code",
     "collapsed": false,
     "input": [
      "ZT"
     ],
     "language": "python",
     "metadata": {},
     "outputs": [
      {
       "latex": [
        "$$\\frac{1.0 S^{2} Z_{c}^{2} Z_{m}}{1.0 i S^{2} Z_{c} Z_{m} \\sin{\\left (L k \\right )} + 0.5 \\cos{\\left (L k \\right )} - 0.5}$$"
       ],
       "output_type": "pyout",
       "png": "[encoded data removed]",
       "prompt_number": 86,
       "text": [
        "                    2    2                    \n",
        "               1.0\u22c5S \u22c5Z_c \u22c5Z_m                \n",
        "\u2500\u2500\u2500\u2500\u2500\u2500\u2500\u2500\u2500\u2500\u2500\u2500\u2500\u2500\u2500\u2500\u2500\u2500\u2500\u2500\u2500\u2500\u2500\u2500\u2500\u2500\u2500\u2500\u2500\u2500\u2500\u2500\u2500\u2500\u2500\u2500\u2500\u2500\u2500\u2500\u2500\u2500\u2500\u2500\u2500\u2500\n",
        "       2                                      \n",
        "1.0\u22c5\u2148\u22c5S \u22c5Z_c\u22c5Z_m\u22c5sin(L\u22c5k) + 0.5\u22c5cos(L\u22c5k) - 0.5"
       ]
      }
     ],
     "prompt_number": 86
    },
    {
     "cell_type": "code",
     "collapsed": false,
     "input": [
      "Zbar = s.simplify(Z1)\n",
      "Ybar = C"
     ],
     "language": "python",
     "metadata": {},
     "outputs": [],
     "prompt_number": 87
    },
    {
     "cell_type": "code",
     "collapsed": false,
     "input": [
      "gamma = s.simplify(sqrt(Zbar*Ybar))\n",
      "Zcarac = s.simplify(sqrt(Zbar/Ybar))"
     ],
     "language": "python",
     "metadata": {},
     "outputs": [],
     "prompt_number": 88
    },
    {
     "cell_type": "code",
     "collapsed": false,
     "input": [
      "gamma"
     ],
     "language": "python",
     "metadata": {},
     "outputs": [
      {
       "latex": [
        "$$1.0 \\sqrt{1.0 \\cos{\\left (L k \\right )} - 1.0 + \\frac{0.5 i}{S^{2} Z_{c} Z_{m}} \\sin{\\left (L k \\right )}}$$"
       ],
       "output_type": "pyout",
       "png": "[encoded data removed]",
       "prompt_number": 89,
       "text": [
        "         _____________________________________\n",
        "        \u2571                      0.5\u22c5\u2148\u22c5sin(L\u22c5k) \n",
        "1.0\u22c5   \u2571  1.0\u22c5cos(L\u22c5k) - 1.0 + \u2500\u2500\u2500\u2500\u2500\u2500\u2500\u2500\u2500\u2500\u2500\u2500\u2500\u2500 \n",
        "      \u2571                           2           \n",
        "    \u2572\u2571                           S \u22c5Z_c\u22c5Z_m   "
       ]
      }
     ],
     "prompt_number": 89
    },
    {
     "cell_type": "code",
     "collapsed": false,
     "input": [
      "reseau2 = s.simplify(simp_cell)"
     ],
     "language": "python",
     "metadata": {},
     "outputs": [],
     "prompt_number": 97
    },
    {
     "cell_type": "code",
     "collapsed": false,
     "input": [
      "A_res = reseau2[0]"
     ],
     "language": "python",
     "metadata": {},
     "outputs": [],
     "prompt_number": 98
    },
    {
     "cell_type": "code",
     "collapsed": false,
     "input": [
      "w, Cm, rho, c = s.symbols('\\omega C_m \\\\rho c')\n",
      "post_replace = reseau2.replace(Zm, j*w*Cm).replace(Cm, d*S/(2*rho*c**2))"
     ],
     "language": "python",
     "metadata": {},
     "outputs": [],
     "prompt_number": 99
    },
    {
     "cell_type": "code",
     "collapsed": false,
     "input": [
      "s.simplify(post_replace.replace(Zc, rho*c/S))"
     ],
     "language": "python",
     "metadata": {},
     "outputs": [
      {
       "latex": [
        "$$\\left[\\begin{matrix}1.0 \\cos{\\left (L k \\right )} + \\frac{1.0 c}{L S^{2} \\omega} \\sin{\\left (L k \\right )} & - \\frac{1.0 i \\rho c}{L S^{3} \\omega} \\left(- L S^{2} \\omega \\sin{\\left (L k \\right )} + c \\cos{\\left (L k \\right )} + c\\right)\\\\\\frac{1.0 i}{L S \\omega \\rho c} \\left(L S^{2} \\omega \\sin{\\left (L k \\right )} - c \\cos{\\left (L k \\right )} + c\\right) & 1.0 \\cos{\\left (L k \\right )} + \\frac{1.0 c}{L S^{2} \\omega} \\sin{\\left (L k \\right )}\\end{matrix}\\right]$$"
       ],
       "output_type": "pyout",
       "png": "[encoded data removed]",
       "prompt_number": 100,
       "text": [
        "\u23a1                                                             \u239b     2         \n",
        "\u23a2                       1.0\u22c5c\u22c5sin(L\u22c5k)          -1.0\u22c5\u2148\u22c5\\rho\u22c5c\u22c5\u239d- L\u22c5S \u22c5\\omega\u22c5s\n",
        "\u23a2        1.0\u22c5cos(L\u22c5k) + \u2500\u2500\u2500\u2500\u2500\u2500\u2500\u2500\u2500\u2500\u2500\u2500\u2500\u2500          \u2500\u2500\u2500\u2500\u2500\u2500\u2500\u2500\u2500\u2500\u2500\u2500\u2500\u2500\u2500\u2500\u2500\u2500\u2500\u2500\u2500\u2500\u2500\u2500\u2500\u2500\u2500\u2500\u2500\u2500\n",
        "\u23a2                           2                                            3    \n",
        "\u23a2                        L\u22c5S \u22c5\\omega                                  L\u22c5S \u22c5\\om\n",
        "\u23a2                                                                             \n",
        "\u23a2      \u239b   2                                 \u239e                                \n",
        "\u23a21.0\u22c5\u2148\u22c5\u239dL\u22c5S \u22c5\\omega\u22c5sin(L\u22c5k) - c\u22c5cos(L\u22c5k) + c\u23a0                              1.\n",
        "\u23a2\u2500\u2500\u2500\u2500\u2500\u2500\u2500\u2500\u2500\u2500\u2500\u2500\u2500\u2500\u2500\u2500\u2500\u2500\u2500\u2500\u2500\u2500\u2500\u2500\u2500\u2500\u2500\u2500\u2500\u2500\u2500\u2500\u2500\u2500\u2500\u2500\u2500\u2500\u2500\u2500\u2500\u2500\u2500\u2500\u2500               1.0\u22c5cos(L\u22c5k) + \u2500\u2500\n",
        "\u23a2              L\u22c5S\u22c5\\omega\u22c5\\rho\u22c5c                                              \n",
        "\u23a3                                                                            L\n",
        "\n",
        "                        \u239e \u23a4\n",
        "in(L\u22c5k) + c\u22c5cos(L\u22c5k) + c\u23a0 \u23a5\n",
        "\u2500\u2500\u2500\u2500\u2500\u2500\u2500\u2500\u2500\u2500\u2500\u2500\u2500\u2500\u2500\u2500\u2500\u2500\u2500\u2500\u2500\u2500\u2500\u2500\u2500\u2500\u23a5\n",
        "                          \u23a5\n",
        "ega                       \u23a5\n",
        "                          \u23a5\n",
        "                          \u23a5\n",
        "0\u22c5c\u22c5sin(L\u22c5k)              \u23a5\n",
        "\u2500\u2500\u2500\u2500\u2500\u2500\u2500\u2500\u2500\u2500\u2500\u2500              \u23a5\n",
        "  2                       \u23a5\n",
        "\u22c5S \u22c5\\omega                \u23a6"
       ]
      }
     ],
     "prompt_number": 100
    },
    {
     "cell_type": "code",
     "collapsed": false,
     "input": [
      "disper = (A+D)/2\n",
      "\n",
      "s.simplify(disper.replace(Zm, j*w*Cm).replace(Cm,d/(2*rho*c**2*S)).replace(Zc,rho*c/S))"
     ],
     "language": "python",
     "metadata": {},
     "outputs": [
      {
       "latex": [
        "$$1.0 \\cos{\\left (L k \\right )} + \\frac{1.0 c}{L \\omega} \\sin{\\left (L k \\right )}$$"
       ],
       "output_type": "pyout",
       "png": "[encoded data removed]",
       "prompt_number": 106,
       "text": [
        "               1.0\u22c5c\u22c5sin(L\u22c5k)\n",
        "1.0\u22c5cos(L\u22c5k) + \u2500\u2500\u2500\u2500\u2500\u2500\u2500\u2500\u2500\u2500\u2500\u2500\u2500\u2500\n",
        "                  L\u22c5\\omega   "
       ]
      }
     ],
     "prompt_number": 106
    },
    {
     "cell_type": "code",
     "collapsed": false,
     "input": [],
     "language": "python",
     "metadata": {},
     "outputs": []
    }
   ],
   "metadata": {}
  }
 ]
}